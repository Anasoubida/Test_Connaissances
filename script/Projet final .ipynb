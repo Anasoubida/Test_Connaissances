{
 "cells": [
  {
   "cell_type": "code",
   "execution_count": 1,
   "metadata": {},
   "outputs": [
    {
     "data": {
      "text/plain": [
       "'D:/spark'"
      ]
     },
     "execution_count": 1,
     "metadata": {},
     "output_type": "execute_result"
    }
   ],
   "source": [
    "import findspark\n",
    "findspark.init(\"D:/spark\")\n",
    "import pyspark \n",
    "findspark.find()"
   ]
  },
  {
   "cell_type": "code",
   "execution_count": 2,
   "metadata": {},
   "outputs": [],
   "source": [
    "from pyspark.sql import SparkSession\n",
    "from pyspark import SparkContext\n",
    "from pyspark.sql import functions as F\n",
    "from pyspark.sql.functions import col\n",
    "from pyspark.sql.types import IntegerType"
   ]
  },
  {
   "cell_type": "code",
   "execution_count": 3,
   "metadata": {},
   "outputs": [],
   "source": [
    "spark = SparkSession.builder.master(\"local\").appName(\"Projet final\").getOrCreate()"
   ]
  },
  {
   "cell_type": "markdown",
   "metadata": {},
   "source": [
    "## Création des bases de données  "
   ]
  },
  {
   "cell_type": "code",
   "execution_count": 4,
   "metadata": {},
   "outputs": [
    {
     "name": "stdout",
     "output_type": "stream",
     "text": [
      "+-----+-----------------+\n",
      "|  aid|             name|\n",
      "+-----+-----------------+\n",
      "|07890| Jean Paul Sartre|\n",
      "|05678|Pierre de Ronsard|\n",
      "+-----+-----------------+\n",
      "\n"
     ]
    }
   ],
   "source": [
    "# création de la base Author\n",
    "l1 = [('07890','Jean Paul Sartre'),('05678','Pierre de Ronsard')]\n",
    "Author = spark.sparkContext.parallelize(l1).toDF(['aid','name'])\n",
    "Author.createOrReplaceTempView('AuthorSQL') \n",
    "Author.show()"
   ]
  },
  {
   "cell_type": "code",
   "execution_count": 5,
   "metadata": {},
   "outputs": [
    {
     "name": "stdout",
     "output_type": "stream",
     "text": [
      "+----+--------------------+-----------+\n",
      "| bid|               title|   category|\n",
      "+----+--------------------+-----------+\n",
      "|0001|L'existentialisme...|Philosophie|\n",
      "|0002|Huis clos. Suivi ...|Philosophie|\n",
      "|0003|Mignonne allons v...|      Poeme|\n",
      "|0004|          Les Amours|      Poème|\n",
      "+----+--------------------+-----------+\n",
      "\n"
     ]
    }
   ],
   "source": [
    "#création de la base book\n",
    "l2 = [(\"0001\",\"L'existentialisme est un humanisme\",\"Philosophie\"),\n",
    "      (\"0002\",\"Huis clos. Suivi de Les Mouches\",\"Philosophie\"),\n",
    "     (\"0003\",\"Mignonne allons voir si la rose\",\"Poeme\"),\n",
    "     (\"0004\",\"Les Amours\",\"Poème\")]\n",
    "book = spark.sparkContext.parallelize(l2).toDF(['bid','title','category'])\n",
    "book.createOrReplaceTempView('bookSQL') \n",
    "book.show()"
   ]
  },
  {
   "cell_type": "code",
   "execution_count": 6,
   "metadata": {},
   "outputs": [
    {
     "name": "stdout",
     "output_type": "stream",
     "text": [
      "+---+-----+---------+\n",
      "|sid|sname|     dept|\n",
      "+---+-----+---------+\n",
      "|S15| toto|     Math|\n",
      "|S16| popo|      Eco|\n",
      "|S17| fofo|Mécanique|\n",
      "+---+-----+---------+\n",
      "\n"
     ]
    }
   ],
   "source": [
    "#création de la base student\n",
    "l3 = [(\"S15\",\"toto\",\"Math\"),(\"S16\",\"popo\",\"Eco\"),\n",
    "     (\"S17\",\"fofo\",\"Mécanique\")]\n",
    "Student = spark.sparkContext.parallelize(l3).toDF(['sid','sname','dept']) \n",
    "Student.createOrReplaceTempView('StudentSQL') \n",
    "Student.show()"
   ]
  },
  {
   "cell_type": "code",
   "execution_count": 7,
   "metadata": {},
   "outputs": [
    {
     "name": "stdout",
     "output_type": "stream",
     "text": [
      "+-----+----+\n",
      "|  aid| bid|\n",
      "+-----+----+\n",
      "|07890|0001|\n",
      "|07890|0002|\n",
      "|05678|0003|\n",
      "|05678|0004|\n",
      "+-----+----+\n",
      "\n"
     ]
    }
   ],
   "source": [
    "#création de la base student\n",
    "l4 = [(\"07890\",\"0001\"),(\"07890\",\"0002\"),\n",
    "     (\"05678\",\"0003\"),(\"05678\",\"0004\")]\n",
    "write = spark.sparkContext.parallelize(l4).toDF(['aid','bid'])\n",
    "write.createOrReplaceTempView('writeSQL') \n",
    "write.show()"
   ]
  },
  {
   "cell_type": "code",
   "execution_count": 8,
   "metadata": {
    "scrolled": true
   },
   "outputs": [
    {
     "name": "stdout",
     "output_type": "stream",
     "text": [
      "+---+----+-------------+-----------+\n",
      "|sid| bid|checkout-time|return-time|\n",
      "+---+----+-------------+-----------+\n",
      "|S15|0003|   02-01-2020| 01-02-2020|\n",
      "|S15|0002|   13-06-2020|       null|\n",
      "|S15|0001|   13-06-2020| 13-10-2020|\n",
      "|S16|0002|   24-01-2020| 24-01-2020|\n",
      "|S17|0001|   12-04-2020| 01-07-2020|\n",
      "+---+----+-------------+-----------+\n",
      "\n"
     ]
    }
   ],
   "source": [
    "#création de la base borrow\n",
    "l4 = [(\"S15\",\"0003\",\"02-01-2020\",\"01-02-2020\"),(\"S15\",\"0002\",\"13-06-2020\",\"null\"),\n",
    "     (\"S15\",\"0001\",\"13-06-2020\",\"13-10-2020\"),(\"S16\",\"0002\",\"24-01-2020\",\"24-01-2020\"),\n",
    "     (\"S17\",\"0001\",\"12-04-2020\",\"01-07-2020\")]\n",
    "borrow = spark.sparkContext.parallelize(l4).toDF(['sid','bid','checkout-time','return-time'])\n",
    "borrow.createOrReplaceTempView('borrowSQL') \n",
    "borrow.show()"
   ]
  },
  {
   "cell_type": "markdown",
   "metadata": {},
   "source": [
    "## 1-Trouver les titres de tous les livres que l'étudiant sid='S15' a emprunté."
   ]
  },
  {
   "cell_type": "code",
   "execution_count": 9,
   "metadata": {},
   "outputs": [
    {
     "name": "stdout",
     "output_type": "stream",
     "text": [
      "+--------------------+\n",
      "|               title|\n",
      "+--------------------+\n",
      "|Huis clos. Suivi ...|\n",
      "|Mignonne allons v...|\n",
      "|L'existentialisme...|\n",
      "+--------------------+\n",
      "\n"
     ]
    }
   ],
   "source": [
    "# DSL\n",
    "borrow.join(book,'bid') \\\n",
    "          .select('title') \\\n",
    "          .filter(F.col('sid')=='S15') \\\n",
    "          .show()"
   ]
  },
  {
   "cell_type": "code",
   "execution_count": 10,
   "metadata": {},
   "outputs": [
    {
     "name": "stdout",
     "output_type": "stream",
     "text": [
      "+--------------------+\n",
      "|               title|\n",
      "+--------------------+\n",
      "|L'existentialisme...|\n",
      "|Huis clos. Suivi ...|\n",
      "|Mignonne allons v...|\n",
      "+--------------------+\n",
      "\n"
     ]
    }
   ],
   "source": [
    "#SQL\n",
    "spark.sql(\"\"\"\n",
    "select distinct (title)\n",
    "from bookSQL, borrowSQL \n",
    "where  bookSQL.bid = borrowSQL.bid\n",
    "and borrowSQL.sid='S15'\n",
    "\"\"\").show()"
   ]
  },
  {
   "cell_type": "markdown",
   "metadata": {},
   "source": [
    "## 2-Trouver les titres de tous les livres qui n'ont jamais été empruntés par un étudiant.\n"
   ]
  },
  {
   "cell_type": "code",
   "execution_count": 11,
   "metadata": {},
   "outputs": [
    {
     "name": "stdout",
     "output_type": "stream",
     "text": [
      "+----------+\n",
      "|     title|\n",
      "+----------+\n",
      "|Les Amours|\n",
      "+----------+\n",
      "\n"
     ]
    }
   ],
   "source": [
    "# DSL\n",
    "borrow.join(book,'bid',how = \"right\") \\\n",
    "          .filter(F.col('sid').isNull()) \\\n",
    "          .select('title') \\\n",
    "          .show()"
   ]
  },
  {
   "cell_type": "code",
   "execution_count": 12,
   "metadata": {},
   "outputs": [
    {
     "name": "stdout",
     "output_type": "stream",
     "text": [
      "+----------+\n",
      "|     title|\n",
      "+----------+\n",
      "|Les Amours|\n",
      "+----------+\n",
      "\n"
     ]
    }
   ],
   "source": [
    "#SQL\n",
    "spark.sql(\"\"\"\n",
    "SELECT  distinct (title)\n",
    "FROM bookSQL\n",
    "WHERE  title NOT IN (SELECT distinct title\n",
    "FROM bookSQL B, borrowSQL C, StudentSQL S\n",
    "WHERE B.bid = C.bid\n",
    "AND S.sid=C.sid)\n",
    "\"\"\").show()"
   ]
  },
  {
   "cell_type": "markdown",
   "metadata": {},
   "source": [
    "## 3-Trouver tous les étudiants qui ont emprunté le livre bid=’0002’"
   ]
  },
  {
   "cell_type": "code",
   "execution_count": 13,
   "metadata": {
    "scrolled": true
   },
   "outputs": [
    {
     "name": "stdout",
     "output_type": "stream",
     "text": [
      "+-----+\n",
      "|sname|\n",
      "+-----+\n",
      "| popo|\n",
      "| toto|\n",
      "+-----+\n",
      "\n"
     ]
    }
   ],
   "source": [
    "# DSL\n",
    "borrow.join(Student,['sid']) \\\n",
    "          .filter(F.col('bid')==\"0002\")\\\n",
    "          .select('sname') \\\n",
    "          .show()"
   ]
  },
  {
   "cell_type": "code",
   "execution_count": 14,
   "metadata": {},
   "outputs": [
    {
     "name": "stdout",
     "output_type": "stream",
     "text": [
      "+-----+\n",
      "|sname|\n",
      "+-----+\n",
      "| popo|\n",
      "| toto|\n",
      "+-----+\n",
      "\n"
     ]
    }
   ],
   "source": [
    "#SQL\n",
    "spark.sql(\"\"\"\n",
    "SELECT distinct (sname) \n",
    "From StudentSQL ,borrowSQL\n",
    "where StudentSQL.sid=borrowSQL.sid\n",
    "And borrowSQL.bid='0002'\n",
    "\"\"\").show()"
   ]
  },
  {
   "cell_type": "markdown",
   "metadata": {},
   "source": [
    "## 4-Trouver les titres de tous les livres empruntés par des étudiants en Mécanique (département Mécanique) (ERRATUM !!)\n"
   ]
  },
  {
   "cell_type": "code",
   "execution_count": 15,
   "metadata": {},
   "outputs": [
    {
     "name": "stdout",
     "output_type": "stream",
     "text": [
      "+--------------------+\n",
      "|               title|\n",
      "+--------------------+\n",
      "|L'existentialisme...|\n",
      "+--------------------+\n",
      "\n"
     ]
    }
   ],
   "source": [
    "# DSL\n",
    "borrow.join(Student,['sid']) \\\n",
    "          .filter(F.col('dept')==\"Mécanique\")\\\n",
    "          .join(book,['bid'])\\\n",
    "          .select('title') \\\n",
    "          .show()"
   ]
  },
  {
   "cell_type": "code",
   "execution_count": 16,
   "metadata": {},
   "outputs": [
    {
     "name": "stdout",
     "output_type": "stream",
     "text": [
      "+--------------------+\n",
      "|               title|\n",
      "+--------------------+\n",
      "|L'existentialisme...|\n",
      "+--------------------+\n",
      "\n"
     ]
    }
   ],
   "source": [
    "#SQL\n",
    "spark.sql(\"\"\"\n",
    "select title \n",
    "from bookSQL, borrowSQL, StudentSQL\n",
    "where borrowSQL.bid = bookSQL.bid\n",
    "and borrowSQL.sid = StudentSQL.sid\n",
    "and StudentSQL.dept = 'Mécanique'\n",
    "\"\"\").show()"
   ]
  },
  {
   "cell_type": "markdown",
   "metadata": {},
   "source": [
    "## 5-Trouver les étudiants qui n’ont jamais emprunté de livre. "
   ]
  },
  {
   "cell_type": "code",
   "execution_count": 17,
   "metadata": {},
   "outputs": [
    {
     "name": "stdout",
     "output_type": "stream",
     "text": [
      "+-----+\n",
      "|sname|\n",
      "+-----+\n",
      "+-----+\n",
      "\n"
     ]
    }
   ],
   "source": [
    "# DSL\n",
    "borrow.join(Student,['sid'],how = \"right\") \\\n",
    "          .filter(F.col('sid').isNull()) \\\n",
    "          .select('sname') \\\n",
    "          .show()"
   ]
  },
  {
   "cell_type": "code",
   "execution_count": 18,
   "metadata": {},
   "outputs": [
    {
     "name": "stdout",
     "output_type": "stream",
     "text": [
      "+-----+\n",
      "|sname|\n",
      "+-----+\n",
      "+-----+\n",
      "\n"
     ]
    }
   ],
   "source": [
    "#SQL\n",
    "spark.sql(\"\"\"\n",
    "select distinct(sname)\n",
    "from StudentSQL\n",
    "where StudentSQL.sid not in (select sid from borrowSQL)\n",
    "\"\"\").show()"
   ]
  },
  {
   "cell_type": "markdown",
   "metadata": {},
   "source": [
    "## 6- Déterminer l’auteur qui a écrit le plus de livres. "
   ]
  },
  {
   "cell_type": "code",
   "execution_count": 19,
   "metadata": {},
   "outputs": [
    {
     "name": "stdout",
     "output_type": "stream",
     "text": [
      "+----------------+----------------+\n",
      "|Nombre de livres|            name|\n",
      "+----------------+----------------+\n",
      "|               2|Jean Paul Sartre|\n",
      "+----------------+----------------+\n",
      "only showing top 1 row\n",
      "\n"
     ]
    }
   ],
   "source": [
    "# DSL\n",
    "Livres = book.join(write,['bid']) \\\n",
    "          .join(Author,['aid'])\\\n",
    "          .groupBy('name')\\\n",
    "          .agg(F.count('name').alias(\"Nombre de livres\"))\n",
    "\n",
    "Nb_livres = Livres \\\n",
    "    .agg(F.max('Nombre de livres').alias(\"Nombre de livres\"))\n",
    "\n",
    "Livres.join(Nb_livres, 'Nombre de livres')\\\n",
    "     .show(1) "
   ]
  },
  {
   "cell_type": "code",
   "execution_count": 20,
   "metadata": {},
   "outputs": [
    {
     "name": "stdout",
     "output_type": "stream",
     "text": [
      "+------------+----------------+\n",
      "|Nombre_livre|            name|\n",
      "+------------+----------------+\n",
      "|           2|Jean Paul Sartre|\n",
      "+------------+----------------+\n",
      "only showing top 1 row\n",
      "\n"
     ]
    }
   ],
   "source": [
    "#SQL\n",
    "spark.sql(\"\"\"\n",
    "select count(distinct writeSQL.bid) as Nombre_livre, name\n",
    "from AuthorSQL, writeSQL\n",
    "where AuthorSQL.aid=writeSQL.aid\n",
    "group by name\n",
    "order by Nombre_livre desc\n",
    "\"\"\").show(1)"
   ]
  },
  {
   "cell_type": "markdown",
   "metadata": {},
   "source": [
    "## 7- Déterminer les personnes qui n’ont pas encore rendu les livres."
   ]
  },
  {
   "cell_type": "code",
   "execution_count": 21,
   "metadata": {},
   "outputs": [
    {
     "name": "stdout",
     "output_type": "stream",
     "text": [
      "+-----+\n",
      "|sname|\n",
      "+-----+\n",
      "| toto|\n",
      "+-----+\n",
      "\n"
     ]
    }
   ],
   "source": [
    "# DSL\n",
    "borrow.join(Student,['sid'],how = \"right\") \\\n",
    "          .filter(F.col('return-time')== 'null') \\\n",
    "          .select('sname') \\\n",
    "          .show()"
   ]
  },
  {
   "cell_type": "code",
   "execution_count": 22,
   "metadata": {},
   "outputs": [
    {
     "name": "stdout",
     "output_type": "stream",
     "text": [
      "+-----+\n",
      "|sname|\n",
      "+-----+\n",
      "| toto|\n",
      "+-----+\n",
      "\n"
     ]
    }
   ],
   "source": [
    "#SQL\n",
    "spark.sql(\"\"\"\n",
    "select sname\n",
    "from StudentSQL, borrowSQL\n",
    "where StudentSQL.sid=borrowSQL.sid\n",
    "and borrowSQL.`return-time`= 'null'\n",
    "\"\"\").show()"
   ]
  },
  {
   "cell_type": "markdown",
   "metadata": {},
   "source": [
    "## 8- Créer une nouvelle colonne dans la table borrow qui prend la valeur 1, si la durée d'emprunt est supérieur à 3 mois,  sinon 0.  (utiliser la fonction spark to_date) par la suite faire un export des données en CSV. dans un répertoire nommé contention (Attention pas de path en dur!)\n"
   ]
  },
  {
   "cell_type": "code",
   "execution_count": 27,
   "metadata": {
    "scrolled": true
   },
   "outputs": [],
   "source": [
    "bdd = borrow.withColumn(\"start_emprunt\", F.to_date(F.col(\"`checkout-time`\"), \"dd-MM-yyyy\"))\\\n",
    "    .withColumn(\"end_emprunt\", F.to_date(F.col(\"`return-time`\"), \"dd-MM-yyyy\"))\\\n",
    "    .withColumn(\"Duree\", F.datediff(F.col(\"end_emprunt\"), F.col(\"start_emprunt\")))\\\n",
    "    .withColumn(\"plus que 3 mois\",(F.when((F.col(\"Duree\").isNull()) | (F.col(\"Duree\")>= 90), 1).otherwise(0)))\\\n",
    "    .select(\"sid\", \"bid\", \"`checkout-time`\", \"`return-time`\", \"plus que 3 mois\")"
   ]
  },
  {
   "cell_type": "code",
   "execution_count": 28,
   "metadata": {},
   "outputs": [],
   "source": [
    "bdd.toPandas().to_csv(\"data_file.csv\", header=True)"
   ]
  },
  {
   "cell_type": "markdown",
   "metadata": {},
   "source": [
    "## 9-déterminer les livres qui n’ont jamais été empruntés. "
   ]
  },
  {
   "cell_type": "code",
   "execution_count": 29,
   "metadata": {},
   "outputs": [
    {
     "name": "stdout",
     "output_type": "stream",
     "text": [
      "+----------+\n",
      "|     title|\n",
      "+----------+\n",
      "|Les Amours|\n",
      "+----------+\n",
      "\n"
     ]
    }
   ],
   "source": [
    "# DSL\n",
    "borrow.join(book,['bid'],how = \"right\") \\\n",
    "          .filter(F.col('checkout-time').isNull()) \\\n",
    "          .select('title') \\\n",
    "          .show()"
   ]
  },
  {
   "cell_type": "code",
   "execution_count": 30,
   "metadata": {
    "scrolled": true
   },
   "outputs": [
    {
     "name": "stdout",
     "output_type": "stream",
     "text": [
      "+----------+\n",
      "|     title|\n",
      "+----------+\n",
      "|Les Amours|\n",
      "+----------+\n",
      "\n"
     ]
    }
   ],
   "source": [
    "#SQL\n",
    "spark.sql(\"\"\"\n",
    "select distinct title \n",
    "from bookSQL, borrowSQL\n",
    "where bookSQL.bid not in (select bid from borrowSQL)\n",
    "\"\"\").show()"
   ]
  },
  {
   "cell_type": "code",
   "execution_count": 31,
   "metadata": {},
   "outputs": [],
   "source": [
    "# Stopping SparkSession\n",
    "spark.stop()"
   ]
  }
 ],
 "metadata": {
  "kernelspec": {
   "display_name": "Python 3",
   "language": "python",
   "name": "python3"
  },
  "language_info": {
   "codemirror_mode": {
    "name": "ipython",
    "version": 3
   },
   "file_extension": ".py",
   "mimetype": "text/x-python",
   "name": "python",
   "nbconvert_exporter": "python",
   "pygments_lexer": "ipython3",
   "version": "3.8.5"
  }
 },
 "nbformat": 4,
 "nbformat_minor": 4
}
